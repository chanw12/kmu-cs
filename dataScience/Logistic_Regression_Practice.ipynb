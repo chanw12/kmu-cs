{
  "nbformat": 4,
  "nbformat_minor": 0,
  "metadata": {
    "colab": {
      "name": "Untitled0.ipynb",
      "provenance": []
    },
    "kernelspec": {
      "name": "python3",
      "display_name": "Python 3"
    },
    "language_info": {
      "name": "python"
    }
  },
  "cells": [
    {
      "cell_type": "code",
      "metadata": {
        "id": "r-U7B9rbLjBl"
      },
      "source": [
        "import torch\n",
        "x_train = torch.FloatTensor([[1],[2],[3],[4],[5],[2.5],[3.5],[0],[3.1],[2.7],[2.8],[2.9]])\n",
        "y_train = torch.FloatTensor([[1],[1],[1],[0],[0],[0],[0],[1],[0],[1],[1],[1]])"
      ],
      "execution_count": 1,
      "outputs": []
    },
    {
      "cell_type": "code",
      "metadata": {
        "id": "uqZ85akNLkMU"
      },
      "source": [
        "W = torch.zeros(1,1)\n",
        "b = torch.zeros(1,1)\n",
        "lr = 1.0"
      ],
      "execution_count": 2,
      "outputs": []
    },
    {
      "cell_type": "code",
      "metadata": {
        "colab": {
          "base_uri": "https://localhost:8080/"
        },
        "id": "a-Osj0qiLoMR",
        "outputId": "61032a17-83be-46fc-f699-12f08636fe02"
      },
      "source": [
        "for epoch in range(3001):\n",
        "  W.requires_grad_(True)\n",
        "  b.requires_grad_(True)\n",
        "  \n",
        "  hypothesis = torch.sigmoid(torch.mm(x_train, W) + b)\n",
        "  cost = torch.mean(-y_train * torch.log(hypothesis)-(1 - y_train) * torch.log(1 - hypothesis))\n",
        "  \n",
        "  cost.backward()\n",
        "  \n",
        "  with torch.no_grad() as grd:\n",
        "    W = W - lr * W.grad\n",
        "    b = b - lr * b.grad\n",
        "    if epoch % 100 == 0:\n",
        "      print(f\"epoch:{epoch},cost:{cost.item()},W:{W},b:{b}\")"
      ],
      "execution_count": 12,
      "outputs": [
        {
          "output_type": "stream",
          "name": "stdout",
          "text": [
            "epoch:0,cost:0.3814913034439087,W:tensor([[-3.0967]]),b:tensor([[9.3765]])\n",
            "epoch:100,cost:0.381491094827652,W:tensor([[-3.0978]]),b:tensor([[9.3798]])\n",
            "epoch:200,cost:0.3814909756183624,W:tensor([[-3.0988]]),b:tensor([[9.3826]])\n",
            "epoch:300,cost:0.38149094581604004,W:tensor([[-3.0996]]),b:tensor([[9.3850]])\n",
            "epoch:400,cost:0.3814908266067505,W:tensor([[-3.1002]]),b:tensor([[9.3870]])\n",
            "epoch:500,cost:0.38149091601371765,W:tensor([[-3.1008]]),b:tensor([[9.3886]])\n",
            "epoch:600,cost:0.3814908266067505,W:tensor([[-3.1013]]),b:tensor([[9.3900]])\n",
            "epoch:700,cost:0.3814908266067505,W:tensor([[-3.1017]]),b:tensor([[9.3912]])\n",
            "epoch:800,cost:0.3814908266067505,W:tensor([[-3.1020]]),b:tensor([[9.3923]])\n",
            "epoch:900,cost:0.3814907968044281,W:tensor([[-3.1023]]),b:tensor([[9.3931]])\n",
            "epoch:1000,cost:0.3814908266067505,W:tensor([[-3.1025]]),b:tensor([[9.3938]])\n",
            "epoch:1100,cost:0.3814908266067505,W:tensor([[-3.1027]]),b:tensor([[9.3944]])\n",
            "epoch:1200,cost:0.3814907371997833,W:tensor([[-3.1029]]),b:tensor([[9.3949]])\n",
            "epoch:1300,cost:0.3814908266067505,W:tensor([[-3.1031]]),b:tensor([[9.3954]])\n",
            "epoch:1400,cost:0.3814907371997833,W:tensor([[-3.1032]]),b:tensor([[9.3958]])\n",
            "epoch:1500,cost:0.3814908266067505,W:tensor([[-3.1033]]),b:tensor([[9.3961]])\n",
            "epoch:1600,cost:0.38149070739746094,W:tensor([[-3.1034]]),b:tensor([[9.3963]])\n",
            "epoch:1700,cost:0.3814907968044281,W:tensor([[-3.1034]]),b:tensor([[9.3965]])\n",
            "epoch:1800,cost:0.3814907968044281,W:tensor([[-3.1035]]),b:tensor([[9.3967]])\n",
            "epoch:1900,cost:0.3814907371997833,W:tensor([[-3.1036]]),b:tensor([[9.3969]])\n",
            "epoch:2000,cost:0.3814908266067505,W:tensor([[-3.1036]]),b:tensor([[9.3970]])\n",
            "epoch:2100,cost:0.3814908266067505,W:tensor([[-3.1036]]),b:tensor([[9.3971]])\n",
            "epoch:2200,cost:0.3814907968044281,W:tensor([[-3.1037]]),b:tensor([[9.3972]])\n",
            "epoch:2300,cost:0.3814908266067505,W:tensor([[-3.1037]]),b:tensor([[9.3973]])\n",
            "epoch:2400,cost:0.3814908564090729,W:tensor([[-3.1037]]),b:tensor([[9.3974]])\n",
            "epoch:2500,cost:0.3814908266067505,W:tensor([[-3.1038]]),b:tensor([[9.3975]])\n",
            "epoch:2600,cost:0.3814907371997833,W:tensor([[-3.1038]]),b:tensor([[9.3975]])\n",
            "epoch:2700,cost:0.3814907371997833,W:tensor([[-3.1038]]),b:tensor([[9.3975]])\n",
            "epoch:2800,cost:0.3814907371997833,W:tensor([[-3.1038]]),b:tensor([[9.3975]])\n",
            "epoch:2900,cost:0.3814907371997833,W:tensor([[-3.1038]]),b:tensor([[9.3975]])\n",
            "epoch:3000,cost:0.3814907371997833,W:tensor([[-3.1038]]),b:tensor([[9.3975]])\n"
          ]
        }
      ]
    },
    {
      "cell_type": "code",
      "metadata": {
        "colab": {
          "base_uri": "https://localhost:8080/"
        },
        "id": "kfjUKkuCL0t7",
        "outputId": "3f1ee43d-1e1a-4aa3-bf8c-83c5ee566bbc"
      },
      "source": [
        "x_test = torch.FloatTensor([[4.5],[1.1]])\n",
        "test_result = torch.sigmoid(torch.mm(x_test, W) + b)\n",
        "print(torch.round(test_result))"
      ],
      "execution_count": 14,
      "outputs": [
        {
          "output_type": "stream",
          "name": "stdout",
          "text": [
            "tensor([[0.],\n",
            "        [1.]])\n"
          ]
        }
      ]
    },
    {
      "cell_type": "code",
      "metadata": {
        "id": "tzDoGV1APsq3"
      },
      "source": [
        "optimizer = torch.optim.SGD([W,b], lr=1.0)"
      ],
      "execution_count": 15,
      "outputs": []
    },
    {
      "cell_type": "code",
      "metadata": {
        "id": "rBqDZja_Pw_q"
      },
      "source": [
        "optimizer = torch.optim.SGD([W,b], lr=1.0)\n",
        "optimizer = torch.optim.Adam([W,b], lr=1.0)\n",
        "optimizer = torch.optim.Adadelta([W,b])\n",
        "optimizer = torch.optim.Adagrad([W,b])\n",
        "optimizer = torch.optim.RMSprop([W,b])\n"
      ],
      "execution_count": 16,
      "outputs": []
    },
    {
      "cell_type": "code",
      "metadata": {
        "colab": {
          "base_uri": "https://localhost:8080/",
          "height": 279
        },
        "id": "7HM2UTbuP2Sk",
        "outputId": "2ba44c51-3147-44ea-fae8-b191d1494e74"
      },
      "source": [
        "import matplotlib.pyplot as plt\n",
        "W.requires_grad_(False)\n",
        "b.requires_grad_(False)\n",
        "plt.scatter(x_train, y_train)\n",
        "X = torch.linspace(0,5,100).unsqueeze(1)\n",
        "Y = torch.sigmoid(torch.mm(X,W)+b)\n",
        "plt.ylabel(\"Probability of 1 (Y)\")\n",
        "plt.xlabel(\"Input (X)\")\n",
        "plt.plot(X,Y)\n",
        "plt.show()"
      ],
      "execution_count": 19,
      "outputs": [
        {
          "output_type": "display_data",
          "data": {
            "image/png": "[encoded data removed]",
            "text/plain": [
              "<Figure size 432x288 with 1 Axes>"
            ]
          },
          "metadata": {
            "needs_background": "light"
          }
        }
      ]
    },
    {
      "cell_type": "code",
      "metadata": {
        "colab": {
          "base_uri": "https://localhost:8080/",
          "height": 279
        },
        "id": "InLpzS92P56a",
        "outputId": "9e091e66-586d-4403-bace-3c51a6b56b04"
      },
      "source": [
        "import matplotlib.pyplot as plt\n",
        "W.requires_grad_(False)\n",
        "b.requires_grad_(False)\n",
        "plt.scatter(x_train, y_train,c=\"black\")\n",
        "X = torch.linspace(0,5,100).unsqueeze(1)\n",
        "Y = torch.sigmoid(torch.mm(X,W)+b)\n",
        "plt.ylabel(\"Probability of 1 (Y)\")\n",
        "plt.xlabel(\"Input (X)\")\n",
        "plt.plot(X,Y,c=\"#ff0000\")\n",
        "plt.show()"
      ],
      "execution_count": 20,
      "outputs": [
        {
          "output_type": "display_data",
          "data": {
            "image/png": "[encoded data removed]",
            "text/plain": [
              "<Figure size 432x288 with 1 Axes>"
            ]
          },
          "metadata": {
            "needs_background": "light"
          }
        }
      ]
    },
    {
      "cell_type": "code",
      "metadata": {
        "colab": {
          "base_uri": "https://localhost:8080/",
          "height": 297
        },
        "id": "3lxZ98JUP_Yy",
        "outputId": "e60c352b-b408-4747-b710-1d0bbcb2b9a0"
      },
      "source": [
        "import matplotlib.pyplot as plt\n",
        "W.requires_grad_(False)\n",
        "b.requires_grad_(False)\n",
        "plt.scatter(x_train, y_train,c=\"black\",label = \"Training data\")\n",
        "X = torch.linspace(0,5,100).unsqueeze(1)\n",
        "Y = torch.sigmoid(torch.mm(X,W)+b)\n",
        "plt.ylabel(\"Probability of 1 (Y)\")\n",
        "plt.xlabel(\"Input (X)\")\n",
        "plt.plot(X,Y,c=\"#ff0000\",label = \"Fitting line\")\n",
        "plt.legend()"
      ],
      "execution_count": 24,
      "outputs": [
        {
          "output_type": "execute_result",
          "data": {
            "text/plain": [
              "<matplotlib.legend.Legend at 0x7ff0d6182b10>"
            ]
          },
          "metadata": {},
          "execution_count": 24
        },
        {
          "output_type": "display_data",
          "data": {
            "image/png": "[encoded data removed]",
            "text/plain": [
              "<Figure size 432x288 with 1 Axes>"
            ]
          },
          "metadata": {
            "needs_background": "light"
          }
        }
      ]
    },
    {
      "cell_type": "code",
      "metadata": {
        "colab": {
          "base_uri": "https://localhost:8080/"
        },
        "id": "1OHIsxypQR_I",
        "outputId": "4ab43c71-5c5a-4744-fed7-012c335c4d95"
      },
      "source": [
        "from sklearn.linear_model import LogisticRegression\n",
        "x_train = [[1],[2],[3],[4],[5],[2.5],[3.5],[0],[3.1],[2.7],[2.8],[2.9]]\n",
        "y_train = [1,1,1,0,0,0,0,1,0,1,1,1]\n",
        "model = LogisticRegression(penalty='none') \n",
        "model.fit(x_train, y_train)\n",
        "print(model.coef_, model.intercept_)\n",
        "x_test = [[4.5],[1.1]]\n",
        "test_result = model.predict(x_test)\n",
        "print(test_result)\n"
      ],
      "execution_count": 26,
      "outputs": [
        {
          "output_type": "stream",
          "name": "stdout",
          "text": [
            "[[-3.10385806]] [9.39776831]\n",
            "[0 1]\n"
          ]
        }
      ]
    },
    {
      "cell_type": "code",
      "metadata": {
        "id": "ijoJBbbxQh_U"
      },
      "source": [
        ""
      ],
      "execution_count": null,
      "outputs": []
    }
  ]
}