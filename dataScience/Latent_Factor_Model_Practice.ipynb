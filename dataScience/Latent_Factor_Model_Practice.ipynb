{
  "nbformat": 4,
  "nbformat_minor": 0,
  "metadata": {
    "colab": {
      "name": "Untitled2.ipynb",
      "provenance": [],
      "collapsed_sections": []
    },
    "kernelspec": {
      "name": "python3",
      "display_name": "Python 3"
    },
    "language_info": {
      "name": "python"
    }
  },
  "cells": [
    {
      "cell_type": "code",
      "metadata": {
        "colab": {
          "base_uri": "https://localhost:8080/"
        },
        "id": "6OnqzY6y8_0V",
        "outputId": "95aa6e78-6b8f-41a2-bd02-224c22105111"
      },
      "source": [
        "from google.colab import drive\n",
        "drive.mount('/content/gdrive')"
      ],
      "execution_count": 18,
      "outputs": [
        {
          "output_type": "stream",
          "name": "stdout",
          "text": [
            "Drive already mounted at /content/gdrive; to attempt to forcibly remount, call drive.mount(\"/content/gdrive\", force_remount=True).\n"
          ]
        }
      ]
    },
    {
      "cell_type": "code",
      "metadata": {
        "colab": {
          "base_uri": "https://localhost:8080/"
        },
        "id": "exKnY_-4-coR",
        "outputId": "82856c78-2306-492b-d9e3-139275d9f064"
      },
      "source": [
        "!ls \"/content/gdrive/My Drive/ml-100k/ml-100k\""
      ],
      "execution_count": 19,
      "outputs": [
        {
          "output_type": "stream",
          "name": "stdout",
          "text": [
            "allbut.pl  u1.base  u2.test  u4.base  u5.test  ub.base\tu.genre  u.occupation\n",
            "mku.sh\t   u1.test  u3.base  u4.test  ua.base  ub.test\tu.info\t u.user\n",
            "README\t   u2.base  u3.test  u5.base  ua.test  u.data\tu.item\n"
          ]
        }
      ]
    },
    {
      "cell_type": "code",
      "metadata": {
        "id": "X32oS36C-gvg"
      },
      "source": [
        "import torch\n",
        "import pandas as pd\n",
        "import torch.nn.functional as F\n",
        "import matplotlib.pyplot as plt\n"
      ],
      "execution_count": 20,
      "outputs": []
    },
    {
      "cell_type": "code",
      "metadata": {
        "id": "rRK3aJf9-jkV"
      },
      "source": [
        "train = pd.read_csv(\"/content/gdrive/My Drive/ml-100k/ml-100k/ua.base\", sep=\"\\t\", names=['user', 'movie', 'rating', 'timestamp'])\n",
        "test = pd.read_csv(\"/content/gdrive/My Drive/ml-100k/ml-100k/ua.test\", sep=\"\\t\", names=['user', 'movie', 'rating', 'timestamp'])\n"
      ],
      "execution_count": 23,
      "outputs": []
    },
    {
      "cell_type": "code",
      "metadata": {
        "colab": {
          "base_uri": "https://localhost:8080/",
          "height": 421
        },
        "id": "YGpHh9_i-ljy",
        "outputId": "732bfb56-c081-4541-9452-e7406ad46a15"
      },
      "source": [
        "train"
      ],
      "execution_count": 24,
      "outputs": [
        {
          "output_type": "execute_result",
          "data": {
            "text/html": [
              "<div>\n",
              "<style scoped>\n",
              "    .dataframe tbody tr th:only-of-type {\n",
              "        vertical-align: middle;\n",
              "    }\n",
              "\n",
              "    .dataframe tbody tr th {\n",
              "        vertical-align: top;\n",
              "    }\n",
              "\n",
              "    .dataframe thead th {\n",
              "        text-align: right;\n",
              "    }\n",
              "</style>\n",
              "<table border=\"1\" class=\"dataframe\">\n",
              "  <thead>\n",
              "    <tr style=\"text-align: right;\">\n",
              "      <th></th>\n",
              "      <th>user</th>\n",
              "      <th>movie</th>\n",
              "      <th>rating</th>\n",
              "      <th>timestamp</th>\n",
              "    </tr>\n",
              "  </thead>\n",
              "  <tbody>\n",
              "    <tr>\n",
              "      <th>0</th>\n",
              "      <td>1</td>\n",
              "      <td>1</td>\n",
              "      <td>5</td>\n",
              "      <td>874965758</td>\n",
              "    </tr>\n",
              "    <tr>\n",
              "      <th>1</th>\n",
              "      <td>1</td>\n",
              "      <td>2</td>\n",
              "      <td>3</td>\n",
              "      <td>876893171</td>\n",
              "    </tr>\n",
              "    <tr>\n",
              "      <th>2</th>\n",
              "      <td>1</td>\n",
              "      <td>3</td>\n",
              "      <td>4</td>\n",
              "      <td>878542960</td>\n",
              "    </tr>\n",
              "    <tr>\n",
              "      <th>3</th>\n",
              "      <td>1</td>\n",
              "      <td>4</td>\n",
              "      <td>3</td>\n",
              "      <td>876893119</td>\n",
              "    </tr>\n",
              "    <tr>\n",
              "      <th>4</th>\n",
              "      <td>1</td>\n",
              "      <td>5</td>\n",
              "      <td>3</td>\n",
              "      <td>889751712</td>\n",
              "    </tr>\n",
              "    <tr>\n",
              "      <th>...</th>\n",
              "      <td>...</td>\n",
              "      <td>...</td>\n",
              "      <td>...</td>\n",
              "      <td>...</td>\n",
              "    </tr>\n",
              "    <tr>\n",
              "      <th>90565</th>\n",
              "      <td>943</td>\n",
              "      <td>1047</td>\n",
              "      <td>2</td>\n",
              "      <td>875502146</td>\n",
              "    </tr>\n",
              "    <tr>\n",
              "      <th>90566</th>\n",
              "      <td>943</td>\n",
              "      <td>1074</td>\n",
              "      <td>4</td>\n",
              "      <td>888640250</td>\n",
              "    </tr>\n",
              "    <tr>\n",
              "      <th>90567</th>\n",
              "      <td>943</td>\n",
              "      <td>1188</td>\n",
              "      <td>3</td>\n",
              "      <td>888640250</td>\n",
              "    </tr>\n",
              "    <tr>\n",
              "      <th>90568</th>\n",
              "      <td>943</td>\n",
              "      <td>1228</td>\n",
              "      <td>3</td>\n",
              "      <td>888640275</td>\n",
              "    </tr>\n",
              "    <tr>\n",
              "      <th>90569</th>\n",
              "      <td>943</td>\n",
              "      <td>1330</td>\n",
              "      <td>3</td>\n",
              "      <td>888692465</td>\n",
              "    </tr>\n",
              "  </tbody>\n",
              "</table>\n",
              "<p>90570 rows × 4 columns</p>\n",
              "</div>"
            ],
            "text/plain": [
              "       user  movie  rating  timestamp\n",
              "0         1      1       5  874965758\n",
              "1         1      2       3  876893171\n",
              "2         1      3       4  878542960\n",
              "3         1      4       3  876893119\n",
              "4         1      5       3  889751712\n",
              "...     ...    ...     ...        ...\n",
              "90565   943   1047       2  875502146\n",
              "90566   943   1074       4  888640250\n",
              "90567   943   1188       3  888640250\n",
              "90568   943   1228       3  888640275\n",
              "90569   943   1330       3  888692465\n",
              "\n",
              "[90570 rows x 4 columns]"
            ]
          },
          "metadata": {},
          "execution_count": 24
        }
      ]
    },
    {
      "cell_type": "code",
      "metadata": {
        "colab": {
          "base_uri": "https://localhost:8080/",
          "height": 421
        },
        "id": "fw6gF4bQ-spZ",
        "outputId": "b87ace93-a9ad-4269-eb03-fe1ab9bce749"
      },
      "source": [
        "test"
      ],
      "execution_count": 25,
      "outputs": [
        {
          "output_type": "execute_result",
          "data": {
            "text/html": [
              "<div>\n",
              "<style scoped>\n",
              "    .dataframe tbody tr th:only-of-type {\n",
              "        vertical-align: middle;\n",
              "    }\n",
              "\n",
              "    .dataframe tbody tr th {\n",
              "        vertical-align: top;\n",
              "    }\n",
              "\n",
              "    .dataframe thead th {\n",
              "        text-align: right;\n",
              "    }\n",
              "</style>\n",
              "<table border=\"1\" class=\"dataframe\">\n",
              "  <thead>\n",
              "    <tr style=\"text-align: right;\">\n",
              "      <th></th>\n",
              "      <th>user</th>\n",
              "      <th>movie</th>\n",
              "      <th>rating</th>\n",
              "      <th>timestamp</th>\n",
              "    </tr>\n",
              "  </thead>\n",
              "  <tbody>\n",
              "    <tr>\n",
              "      <th>0</th>\n",
              "      <td>1</td>\n",
              "      <td>20</td>\n",
              "      <td>4</td>\n",
              "      <td>887431883</td>\n",
              "    </tr>\n",
              "    <tr>\n",
              "      <th>1</th>\n",
              "      <td>1</td>\n",
              "      <td>33</td>\n",
              "      <td>4</td>\n",
              "      <td>878542699</td>\n",
              "    </tr>\n",
              "    <tr>\n",
              "      <th>2</th>\n",
              "      <td>1</td>\n",
              "      <td>61</td>\n",
              "      <td>4</td>\n",
              "      <td>878542420</td>\n",
              "    </tr>\n",
              "    <tr>\n",
              "      <th>3</th>\n",
              "      <td>1</td>\n",
              "      <td>117</td>\n",
              "      <td>3</td>\n",
              "      <td>874965739</td>\n",
              "    </tr>\n",
              "    <tr>\n",
              "      <th>4</th>\n",
              "      <td>1</td>\n",
              "      <td>155</td>\n",
              "      <td>2</td>\n",
              "      <td>878542201</td>\n",
              "    </tr>\n",
              "    <tr>\n",
              "      <th>...</th>\n",
              "      <td>...</td>\n",
              "      <td>...</td>\n",
              "      <td>...</td>\n",
              "      <td>...</td>\n",
              "    </tr>\n",
              "    <tr>\n",
              "      <th>9425</th>\n",
              "      <td>943</td>\n",
              "      <td>232</td>\n",
              "      <td>4</td>\n",
              "      <td>888639867</td>\n",
              "    </tr>\n",
              "    <tr>\n",
              "      <th>9426</th>\n",
              "      <td>943</td>\n",
              "      <td>356</td>\n",
              "      <td>4</td>\n",
              "      <td>888639598</td>\n",
              "    </tr>\n",
              "    <tr>\n",
              "      <th>9427</th>\n",
              "      <td>943</td>\n",
              "      <td>570</td>\n",
              "      <td>1</td>\n",
              "      <td>888640125</td>\n",
              "    </tr>\n",
              "    <tr>\n",
              "      <th>9428</th>\n",
              "      <td>943</td>\n",
              "      <td>808</td>\n",
              "      <td>4</td>\n",
              "      <td>888639868</td>\n",
              "    </tr>\n",
              "    <tr>\n",
              "      <th>9429</th>\n",
              "      <td>943</td>\n",
              "      <td>1067</td>\n",
              "      <td>2</td>\n",
              "      <td>875501756</td>\n",
              "    </tr>\n",
              "  </tbody>\n",
              "</table>\n",
              "<p>9430 rows × 4 columns</p>\n",
              "</div>"
            ],
            "text/plain": [
              "      user  movie  rating  timestamp\n",
              "0        1     20       4  887431883\n",
              "1        1     33       4  878542699\n",
              "2        1     61       4  878542420\n",
              "3        1    117       3  874965739\n",
              "4        1    155       2  878542201\n",
              "...    ...    ...     ...        ...\n",
              "9425   943    232       4  888639867\n",
              "9426   943    356       4  888639598\n",
              "9427   943    570       1  888640125\n",
              "9428   943    808       4  888639868\n",
              "9429   943   1067       2  875501756\n",
              "\n",
              "[9430 rows x 4 columns]"
            ]
          },
          "metadata": {},
          "execution_count": 25
        }
      ]
    },
    {
      "cell_type": "code",
      "metadata": {
        "id": "CYRbLNDL-tfq"
      },
      "source": [
        "items = torch.LongTensor(train['movie'])\n",
        "users = torch.LongTensor(train['user'])\n",
        "ratings = torch.FloatTensor(train['rating'])\n",
        "items_test = torch.LongTensor(test['movie'])\n",
        "users_test = torch.LongTensor(test['user'])\n",
        "ratings_test = torch.FloatTensor(test['rating'])"
      ],
      "execution_count": 39,
      "outputs": []
    },
    {
      "cell_type": "code",
      "metadata": {
        "colab": {
          "base_uri": "https://localhost:8080/"
        },
        "id": "aDBkwa2r-zi_",
        "outputId": "8f2a16a2-c1ad-4255-ef3f-404cf36fde45"
      },
      "source": [
        "rank = 10\n",
        "numItems = items.max() + 1\n",
        "numUsers = users.max() + 1\n",
        "P = torch.randn(numItems, rank, requires_grad=True)\n",
        "Q = torch.randn(numUsers, rank, requires_grad=True)\n",
        "\n",
        "optimizer = torch.optim.Adam([P, Q], lr= 0.1)\n",
        "for epoch in range(1000):\n",
        " hypothesis = torch. sum(P[items] * Q[users], dim= 1)\n",
        " cost = F.mse_loss(hypothesis ,ratings)\n",
        " optimizer.zero_grad()\n",
        " cost.backward()\n",
        " optimizer.step()\n",
        " if epoch % 100 == 0:\n",
        "  print(\"epoch: {}, cost: {:.6f}\" .format(epoch, cost.item()))\n",
        "\n"
      ],
      "execution_count": 32,
      "outputs": [
        {
          "output_type": "stream",
          "name": "stdout",
          "text": [
            "epoch: 0, cost: 23.929214\n",
            "epoch: 100, cost: 0.574585\n",
            "epoch: 200, cost: 0.499066\n",
            "epoch: 300, cost: 0.472866\n",
            "epoch: 400, cost: 0.461319\n",
            "epoch: 500, cost: 0.455367\n",
            "epoch: 600, cost: 0.451689\n",
            "epoch: 700, cost: 0.449248\n",
            "epoch: 800, cost: 0.447498\n",
            "epoch: 900, cost: 0.446179\n"
          ]
        }
      ]
    },
    {
      "cell_type": "code",
      "metadata": {
        "colab": {
          "base_uri": "https://localhost:8080/"
        },
        "id": "jTuSk_uH-7rE",
        "outputId": "60742c98-d81e-42b4-ea73-e0a1d88c1f9f"
      },
      "source": [
        "rank = 10\n",
        "numItems = items.max() + 1\n",
        "numUsers = users.max() + 1\n",
        "P = torch.randn(numItems, rank, requires_grad=True)\n",
        "Q = torch.randn(numUsers, rank, requires_grad=True)\n",
        "X=[]\n",
        "Y = []\n",
        "\n",
        "\n",
        "optimizer = torch.optim.Adam([P, Q], lr= 0.1)\n",
        "for epoch in range(1000):\n",
        " hypothesis = torch. sum(P[items] * Q[users], dim= 1)\n",
        " cost = F.mse_loss(hypothesis ,ratings)\n",
        " optimizer.zero_grad()\n",
        " cost.backward()\n",
        " optimizer.step()\n",
        " X.append(epoch)\n",
        " Y.append(cost)\n",
        " if epoch % 100 == 0:\n",
        "  print(\"epoch: {}, cost: {:.6f}\" .format(epoch, cost.item()))\n",
        "\n"
      ],
      "execution_count": 36,
      "outputs": [
        {
          "output_type": "stream",
          "name": "stdout",
          "text": [
            "epoch: 0, cost: 24.024334\n",
            "epoch: 100, cost: 0.567604\n",
            "epoch: 200, cost: 0.493679\n",
            "epoch: 300, cost: 0.469957\n",
            "epoch: 400, cost: 0.459174\n",
            "epoch: 500, cost: 0.452863\n",
            "epoch: 600, cost: 0.448752\n",
            "epoch: 700, cost: 0.445768\n",
            "epoch: 800, cost: 0.443429\n",
            "epoch: 900, cost: 0.441622\n"
          ]
        }
      ]
    },
    {
      "cell_type": "code",
      "metadata": {
        "colab": {
          "base_uri": "https://localhost:8080/",
          "height": 282
        },
        "id": "uVgs9OC2_HoY",
        "outputId": "aa2e9aa5-efaa-4589-eba7-3250c03725e2"
      },
      "source": [
        "plt.ylabel(\"MSE\")\n",
        "plt.xlabel(\"Epoch\")\n",
        "plt.plot(X,Y, c=\"blue\", label=\"Training MSE\")\n",
        "plt.legend()\n",
        "plt.show()"
      ],
      "execution_count": 37,
      "outputs": [
        {
          "output_type": "display_data",
          "data": {
            "image/png": "[encoded data removed]",
            "text/plain": [
              "<Figure size 432x288 with 1 Axes>"
            ]
          },
          "metadata": {
            "needs_background": "light"
          }
        }
      ]
    },
    {
      "cell_type": "code",
      "metadata": {
        "colab": {
          "base_uri": "https://localhost:8080/"
        },
        "id": "MF9kIart_3aL",
        "outputId": "31a89412-54c0-4fa4-84e7-9c22ef898d71"
      },
      "source": [
        "rank = 10\n",
        "numItems = items.max() + 1\n",
        "numUsers = users.max() + 1\n",
        "P = torch.randn(numItems, rank, requires_grad=True)\n",
        "Q = torch.randn(numUsers, rank, requires_grad=True)\n",
        "X=[]\n",
        "Y = []\n",
        "Y_test =[]\n",
        "\n",
        "\n",
        "optimizer = torch.optim.Adam([P, Q], lr= 0.1)\n",
        "for epoch in range(1000):\n",
        " hypothesis = torch. sum(P[items] * Q[users], dim= 1)\n",
        " cost = F.mse_loss(hypothesis ,ratings)\n",
        " optimizer.zero_grad()\n",
        " cost.backward()\n",
        " optimizer.step()\n",
        " X.append(epoch)\n",
        " Y.append(cost)\n",
        " with torch.no_grad():\n",
        "   hypo_test = torch.sum(P[items_test] * Q[users_test],dim=1)\n",
        "   cost_test = F.mse_loss(hypo_test,ratings_test)\n",
        "   Y_test.append(cost_test)\n",
        " if epoch % 100 == 0:\n",
        "  print(f\"epoch:{epoch},mse:{cost},mse_test:{cost_test}\")"
      ],
      "execution_count": 52,
      "outputs": [
        {
          "output_type": "stream",
          "name": "stdout",
          "text": [
            "epoch:0,mse:23.21988868713379,mse_test:22.10811996459961\n",
            "epoch:100,mse:0.5796549320220947,mse_test:1.5414245128631592\n",
            "epoch:200,mse:0.5028509497642517,mse_test:1.8913569450378418\n",
            "epoch:300,mse:0.4761028587818146,mse_test:2.2968249320983887\n",
            "epoch:400,mse:0.4639131724834442,mse_test:2.754615306854248\n",
            "epoch:500,mse:0.45742425322532654,mse_test:3.2382240295410156\n",
            "epoch:600,mse:0.4530736207962036,mse_test:3.749765157699585\n",
            "epoch:700,mse:0.4499237537384033,mse_test:4.265904903411865\n",
            "epoch:800,mse:0.44760701060295105,mse_test:4.7755560874938965\n",
            "epoch:900,mse:0.44571229815483093,mse_test:5.235766887664795\n"
          ]
        }
      ]
    },
    {
      "cell_type": "code",
      "metadata": {
        "colab": {
          "base_uri": "https://localhost:8080/",
          "height": 279
        },
        "id": "N97X9ZgRAN9t",
        "outputId": "8e80b00a-50d0-43a1-d931-2138f8501ba2"
      },
      "source": [
        "plt.ylabel(\"MSE\")\n",
        "plt.xlabel(\"Epoch\")\n",
        "plt.plot(X,Y, c=\"blue\", label=\"Training MSE\")\n",
        "plt.plot(X,Y_test, c=\"red\", label=\"Test MSE\")\n",
        "plt.legend()\n",
        "plt.show()\n"
      ],
      "execution_count": 43,
      "outputs": [
        {
          "output_type": "display_data",
          "data": {
            "image/png": "[encoded data removed]",
            "text/plain": [
              "<Figure size 432x288 with 1 Axes>"
            ]
          },
          "metadata": {
            "needs_background": "light"
          }
        }
      ]
    },
    {
      "cell_type": "code",
      "metadata": {
        "colab": {
          "base_uri": "https://localhost:8080/"
        },
        "id": "kAjmt-4XAxNH",
        "outputId": "d1c6c100-c7c8-41a2-f596-447681f4e597"
      },
      "source": [
        "rank = 10\n",
        "numItems = items.max() + 1\n",
        "numUsers = users.max() + 1\n",
        "P = torch.randn(numItems, rank, requires_grad=True)\n",
        "Q = torch.randn(numUsers, rank, requires_grad=True)\n",
        "X=[]\n",
        "Y = []\n",
        "Y_test =[]\n",
        "lambda1 = 0.0001\n",
        "lambda2 = 0.0001\n",
        "\n",
        "\n",
        "optimizer = torch.optim.Adam([P, Q], lr= 0.1)\n",
        "for epoch in range(1000):\n",
        " hypothesis = torch. sum(P[items] * Q[users], dim= 1)\n",
        " cost = F.mse_loss(hypothesis ,ratings)\n",
        " loss = cost + lambda1 * torch.sum(P ** 2) + lambda2 * torch.sum(Q ** 2)\n",
        " optimizer.zero_grad()\n",
        " loss.backward()\n",
        " optimizer.step()\n",
        " X.append(epoch)\n",
        " Y.append(cost)\n",
        " with torch.no_grad():\n",
        "   hypo_test = torch.sum(P[items_test] * Q[users_test],dim=1)\n",
        "   cost_test = F.mse_loss(hypo_test,ratings_test)\n",
        "   Y_test.append(cost_test)\n",
        " if epoch % 100 == 0:\n",
        "  print(f\"epoch:{epoch},mse:{cost},mse_test:{cost_test}\")"
      ],
      "execution_count": 51,
      "outputs": [
        {
          "output_type": "stream",
          "name": "stdout",
          "text": [
            "epoch:0,mse:23.51847267150879,mse_test:21.38846778869629\n",
            "epoch:100,mse:0.7037517428398132,mse_test:1.0677088499069214\n",
            "epoch:200,mse:0.6438550353050232,mse_test:1.0680146217346191\n",
            "epoch:300,mse:0.6321430206298828,mse_test:1.0610679388046265\n",
            "epoch:400,mse:0.6289618611335754,mse_test:1.059865951538086\n",
            "epoch:500,mse:0.6281816959381104,mse_test:1.0601511001586914\n",
            "epoch:600,mse:0.6278262138366699,mse_test:1.0602952241897583\n",
            "epoch:700,mse:0.6275820136070251,mse_test:1.0602645874023438\n",
            "epoch:800,mse:0.627376914024353,mse_test:1.0600662231445312\n",
            "epoch:900,mse:0.6271514892578125,mse_test:1.0596189498901367\n"
          ]
        }
      ]
    },
    {
      "cell_type": "code",
      "metadata": {
        "colab": {
          "base_uri": "https://localhost:8080/",
          "height": 279
        },
        "id": "ESpPlH_IBqwC",
        "outputId": "e078b288-f2a8-4c85-bb9f-4b04ff4a286b"
      },
      "source": [
        "plt.ylabel(\"MSE\")\n",
        "plt.xlabel(\"Epoch\")\n",
        "plt.plot(X,Y, c=\"blue\", label=\"Training MSE\")\n",
        "plt.plot(X,Y_test, c=\"red\", label=\"Test MSE\")\n",
        "plt.legend()\n",
        "plt.show()"
      ],
      "execution_count": 46,
      "outputs": [
        {
          "output_type": "display_data",
          "data": {
            "image/png": "[encoded data removed]",
            "text/plain": [
              "<Figure size 432x288 with 1 Axes>"
            ]
          },
          "metadata": {
            "needs_background": "light"
          }
        }
      ]
    },
    {
      "cell_type": "code",
      "metadata": {
        "colab": {
          "base_uri": "https://localhost:8080/"
        },
        "id": "a8lDhLdVCAdf",
        "outputId": "6cab053f-8aee-4f5e-8e73-aaacc12ef30e"
      },
      "source": [
        "rank = 10\n",
        "numItems = items.max() + 1\n",
        "numUsers = users.max() + 1\n",
        "P = torch.randn(numItems, rank, requires_grad=True)\n",
        "Q = torch.randn(numUsers, rank, requires_grad=True)\n",
        "bias_item = torch.randn(numItems, requires_grad=True)\n",
        "bias_user = torch.randn(numUsers, requires_grad=True)\n",
        "mean = (ratings.sum() / len(ratings)).item()\n",
        "optimizer = torch.optim.Adam([P, Q, bias_item, bias_user], lr=0.1)\n",
        "\n",
        "\n",
        "X=[]\n",
        "Y = []\n",
        "Y_test =[]\n",
        "lambda1 = 0.0001\n",
        "lambda2 = 0.0001\n",
        "lambda3 = 0.0001\n",
        "lambda4 = 0.0001\n",
        "\n",
        "\n",
        "\n",
        "\n",
        "for epoch in range(1000):\n",
        "  hypothesis = torch.sum(P[items] * Q[users], dim=1) + mean + bias_item[items] + bias_user[users]\n",
        "  cost = F.mse_loss(hypothesis ,ratings)\n",
        "  \n",
        "  loss = cost + lambda1 * torch.sum(P ** 2) + lambda2 * torch.sum(Q ** 2) + lambda3 * torch.sum(bias_item ** 2) + lambda4 * torch.sum(bias_user ** 2)\n",
        "\n",
        "  optimizer.zero_grad()\n",
        "  loss.backward()\n",
        "  optimizer.step()\n",
        "\n",
        "  with torch.no_grad():\n",
        "    hypo_test = torch.sum(P[items_test] * Q[users_test],dim=1) + mean + bias_item[items_test] + bias_user[users_test]\n",
        "    cost_test = F.mse_loss(hypo_test,ratings_test)\n",
        "\n",
        "    X.append(epoch)\n",
        "    Y.append(cost)\n",
        "    Y_test.append(cost_test)\n",
        "  if epoch % 100 == 0:\n",
        "    print(f\"epoch:{epoch},mse:{cost},mse_test:{cost_test}\")"
      ],
      "execution_count": 63,
      "outputs": [
        {
          "output_type": "stream",
          "name": "stdout",
          "text": [
            "epoch:0,mse:13.3927001953125,mse_test:10.642999649047852\n",
            "epoch:100,mse:0.6083654761314392,mse_test:0.8772228956222534\n",
            "epoch:200,mse:0.5794980525970459,mse_test:0.8726239204406738\n",
            "epoch:300,mse:0.5754681825637817,mse_test:0.8722958564758301\n",
            "epoch:400,mse:0.573944628238678,mse_test:0.8720537424087524\n",
            "epoch:500,mse:0.5733822584152222,mse_test:0.8723122477531433\n",
            "epoch:600,mse:0.5731312036514282,mse_test:0.872286319732666\n",
            "epoch:700,mse:0.5729517936706543,mse_test:0.8720711469650269\n",
            "epoch:800,mse:0.5727929472923279,mse_test:0.8719200491905212\n",
            "epoch:900,mse:0.5726902484893799,mse_test:0.8717596530914307\n"
          ]
        }
      ]
    },
    {
      "cell_type": "code",
      "metadata": {
        "colab": {
          "base_uri": "https://localhost:8080/",
          "height": 283
        },
        "id": "qrQ6URiNCk1M",
        "outputId": "2a085fe2-9572-46be-86c4-4e1bf1e9c56c"
      },
      "source": [
        "plt.ylabel(\"MSE\")\n",
        "plt.xlabel(\"Epoch\")\n",
        "plt.plot(X,Y, c=\"blue\", label=\"Training MSE\")\n",
        "plt.plot(X,Y_test, c=\"red\", label=\"Test MSE\")\n",
        "plt.legend()\n",
        "plt.show()"
      ],
      "execution_count": 64,
      "outputs": [
        {
          "output_type": "display_data",
          "data": {
            "image/png": "[encoded data removed]",
            "text/plain": [
              "<Figure size 432x288 with 1 Axes>"
            ]
          },
          "metadata": {
            "needs_background": "light"
          }
        }
      ]
    },
    {
      "cell_type": "code",
      "metadata": {
        "id": "gMAiKUvcDcyY"
      },
      "source": [
        ""
      ],
      "execution_count": null,
      "outputs": []
    }
  ]
}