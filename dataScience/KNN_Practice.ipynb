{
  "nbformat": 4,
  "nbformat_minor": 0,
  "metadata": {
    "colab": {
      "name": "Untitled4.ipynb",
      "provenance": []
    },
    "kernelspec": {
      "name": "python3",
      "display_name": "Python 3"
    },
    "language_info": {
      "name": "python"
    }
  },
  "cells": [
    {
      "cell_type": "code",
      "metadata": {
        "id": "KCMy0yQQOrOD"
      },
      "source": [
        "import matplotlib.pyplot as plt\n",
        "import random\n",
        "from tqdm import tqdm"
      ],
      "execution_count": 25,
      "outputs": []
    },
    {
      "cell_type": "code",
      "metadata": {
        "id": "mgvzE_d5Oy4v"
      },
      "source": [
        "data = []\n",
        "with open('iris.data','r')as f:\n",
        "  for line in f:\n",
        "    if line.strip():\n",
        "      item = line.strip().split(\",\")\n",
        "      data.append( ([float(val) for val in item[:-1]],item[-1]) )\n",
        "\n",
        "species = {s: i for i, s in enumerate(set(d[1] for d in data))}\n",
        "data = [(d[0], species[d[1]]) for d in data]"
      ],
      "execution_count": 26,
      "outputs": []
    },
    {
      "cell_type": "code",
      "metadata": {
        "colab": {
          "base_uri": "https://localhost:8080/"
        },
        "id": "BkcqQYDISGOB",
        "outputId": "30f27c95-4fbb-4554-a266-4fa8511b8e03"
      },
      "source": [
        "data"
      ],
      "execution_count": 27,
      "outputs": [
        {
          "output_type": "execute_result",
          "data": {
            "text/plain": [
              "[([5.1, 3.5, 1.4, 0.2], 1),\n",
              " ([4.9, 3.0, 1.4, 0.2], 1),\n",
              " ([4.7, 3.2, 1.3, 0.2], 1),\n",
              " ([4.6, 3.1, 1.5, 0.2], 1),\n",
              " ([5.0, 3.6, 1.4, 0.2], 1),\n",
              " ([5.4, 3.9, 1.7, 0.4], 1),\n",
              " ([4.6, 3.4, 1.4, 0.3], 1),\n",
              " ([5.0, 3.4, 1.5, 0.2], 1),\n",
              " ([4.4, 2.9, 1.4, 0.2], 1),\n",
              " ([4.9, 3.1, 1.5, 0.1], 1),\n",
              " ([5.4, 3.7, 1.5, 0.2], 1),\n",
              " ([4.8, 3.4, 1.6, 0.2], 1),\n",
              " ([4.8, 3.0, 1.4, 0.1], 1),\n",
              " ([4.3, 3.0, 1.1, 0.1], 1),\n",
              " ([5.8, 4.0, 1.2, 0.2], 1),\n",
              " ([5.7, 4.4, 1.5, 0.4], 1),\n",
              " ([5.4, 3.9, 1.3, 0.4], 1),\n",
              " ([5.1, 3.5, 1.4, 0.3], 1),\n",
              " ([5.7, 3.8, 1.7, 0.3], 1),\n",
              " ([5.1, 3.8, 1.5, 0.3], 1),\n",
              " ([5.4, 3.4, 1.7, 0.2], 1),\n",
              " ([5.1, 3.7, 1.5, 0.4], 1),\n",
              " ([4.6, 3.6, 1.0, 0.2], 1),\n",
              " ([5.1, 3.3, 1.7, 0.5], 1),\n",
              " ([4.8, 3.4, 1.9, 0.2], 1),\n",
              " ([5.0, 3.0, 1.6, 0.2], 1),\n",
              " ([5.0, 3.4, 1.6, 0.4], 1),\n",
              " ([5.2, 3.5, 1.5, 0.2], 1),\n",
              " ([5.2, 3.4, 1.4, 0.2], 1),\n",
              " ([4.7, 3.2, 1.6, 0.2], 1),\n",
              " ([4.8, 3.1, 1.6, 0.2], 1),\n",
              " ([5.4, 3.4, 1.5, 0.4], 1),\n",
              " ([5.2, 4.1, 1.5, 0.1], 1),\n",
              " ([5.5, 4.2, 1.4, 0.2], 1),\n",
              " ([4.9, 3.1, 1.5, 0.1], 1),\n",
              " ([5.0, 3.2, 1.2, 0.2], 1),\n",
              " ([5.5, 3.5, 1.3, 0.2], 1),\n",
              " ([4.9, 3.1, 1.5, 0.1], 1),\n",
              " ([4.4, 3.0, 1.3, 0.2], 1),\n",
              " ([5.1, 3.4, 1.5, 0.2], 1),\n",
              " ([5.0, 3.5, 1.3, 0.3], 1),\n",
              " ([4.5, 2.3, 1.3, 0.3], 1),\n",
              " ([4.4, 3.2, 1.3, 0.2], 1),\n",
              " ([5.0, 3.5, 1.6, 0.6], 1),\n",
              " ([5.1, 3.8, 1.9, 0.4], 1),\n",
              " ([4.8, 3.0, 1.4, 0.3], 1),\n",
              " ([5.1, 3.8, 1.6, 0.2], 1),\n",
              " ([4.6, 3.2, 1.4, 0.2], 1),\n",
              " ([5.3, 3.7, 1.5, 0.2], 1),\n",
              " ([5.0, 3.3, 1.4, 0.2], 1),\n",
              " ([7.0, 3.2, 4.7, 1.4], 0),\n",
              " ([6.4, 3.2, 4.5, 1.5], 0),\n",
              " ([6.9, 3.1, 4.9, 1.5], 0),\n",
              " ([5.5, 2.3, 4.0, 1.3], 0),\n",
              " ([6.5, 2.8, 4.6, 1.5], 0),\n",
              " ([5.7, 2.8, 4.5, 1.3], 0),\n",
              " ([6.3, 3.3, 4.7, 1.6], 0),\n",
              " ([4.9, 2.4, 3.3, 1.0], 0),\n",
              " ([6.6, 2.9, 4.6, 1.3], 0),\n",
              " ([5.2, 2.7, 3.9, 1.4], 0),\n",
              " ([5.0, 2.0, 3.5, 1.0], 0),\n",
              " ([5.9, 3.0, 4.2, 1.5], 0),\n",
              " ([6.0, 2.2, 4.0, 1.0], 0),\n",
              " ([6.1, 2.9, 4.7, 1.4], 0),\n",
              " ([5.6, 2.9, 3.6, 1.3], 0),\n",
              " ([6.7, 3.1, 4.4, 1.4], 0),\n",
              " ([5.6, 3.0, 4.5, 1.5], 0),\n",
              " ([5.8, 2.7, 4.1, 1.0], 0),\n",
              " ([6.2, 2.2, 4.5, 1.5], 0),\n",
              " ([5.6, 2.5, 3.9, 1.1], 0),\n",
              " ([5.9, 3.2, 4.8, 1.8], 0),\n",
              " ([6.1, 2.8, 4.0, 1.3], 0),\n",
              " ([6.3, 2.5, 4.9, 1.5], 0),\n",
              " ([6.1, 2.8, 4.7, 1.2], 0),\n",
              " ([6.4, 2.9, 4.3, 1.3], 0),\n",
              " ([6.6, 3.0, 4.4, 1.4], 0),\n",
              " ([6.8, 2.8, 4.8, 1.4], 0),\n",
              " ([6.7, 3.0, 5.0, 1.7], 0),\n",
              " ([6.0, 2.9, 4.5, 1.5], 0),\n",
              " ([5.7, 2.6, 3.5, 1.0], 0),\n",
              " ([5.5, 2.4, 3.8, 1.1], 0),\n",
              " ([5.5, 2.4, 3.7, 1.0], 0),\n",
              " ([5.8, 2.7, 3.9, 1.2], 0),\n",
              " ([6.0, 2.7, 5.1, 1.6], 0),\n",
              " ([5.4, 3.0, 4.5, 1.5], 0),\n",
              " ([6.0, 3.4, 4.5, 1.6], 0),\n",
              " ([6.7, 3.1, 4.7, 1.5], 0),\n",
              " ([6.3, 2.3, 4.4, 1.3], 0),\n",
              " ([5.6, 3.0, 4.1, 1.3], 0),\n",
              " ([5.5, 2.5, 4.0, 1.3], 0),\n",
              " ([5.5, 2.6, 4.4, 1.2], 0),\n",
              " ([6.1, 3.0, 4.6, 1.4], 0),\n",
              " ([5.8, 2.6, 4.0, 1.2], 0),\n",
              " ([5.0, 2.3, 3.3, 1.0], 0),\n",
              " ([5.6, 2.7, 4.2, 1.3], 0),\n",
              " ([5.7, 3.0, 4.2, 1.2], 0),\n",
              " ([5.7, 2.9, 4.2, 1.3], 0),\n",
              " ([6.2, 2.9, 4.3, 1.3], 0),\n",
              " ([5.1, 2.5, 3.0, 1.1], 0),\n",
              " ([5.7, 2.8, 4.1, 1.3], 0),\n",
              " ([6.3, 3.3, 6.0, 2.5], 2),\n",
              " ([5.8, 2.7, 5.1, 1.9], 2),\n",
              " ([7.1, 3.0, 5.9, 2.1], 2),\n",
              " ([6.3, 2.9, 5.6, 1.8], 2),\n",
              " ([6.5, 3.0, 5.8, 2.2], 2),\n",
              " ([7.6, 3.0, 6.6, 2.1], 2),\n",
              " ([4.9, 2.5, 4.5, 1.7], 2),\n",
              " ([7.3, 2.9, 6.3, 1.8], 2),\n",
              " ([6.7, 2.5, 5.8, 1.8], 2),\n",
              " ([7.2, 3.6, 6.1, 2.5], 2),\n",
              " ([6.5, 3.2, 5.1, 2.0], 2),\n",
              " ([6.4, 2.7, 5.3, 1.9], 2),\n",
              " ([6.8, 3.0, 5.5, 2.1], 2),\n",
              " ([5.7, 2.5, 5.0, 2.0], 2),\n",
              " ([5.8, 2.8, 5.1, 2.4], 2),\n",
              " ([6.4, 3.2, 5.3, 2.3], 2),\n",
              " ([6.5, 3.0, 5.5, 1.8], 2),\n",
              " ([7.7, 3.8, 6.7, 2.2], 2),\n",
              " ([7.7, 2.6, 6.9, 2.3], 2),\n",
              " ([6.0, 2.2, 5.0, 1.5], 2),\n",
              " ([6.9, 3.2, 5.7, 2.3], 2),\n",
              " ([5.6, 2.8, 4.9, 2.0], 2),\n",
              " ([7.7, 2.8, 6.7, 2.0], 2),\n",
              " ([6.3, 2.7, 4.9, 1.8], 2),\n",
              " ([6.7, 3.3, 5.7, 2.1], 2),\n",
              " ([7.2, 3.2, 6.0, 1.8], 2),\n",
              " ([6.2, 2.8, 4.8, 1.8], 2),\n",
              " ([6.1, 3.0, 4.9, 1.8], 2),\n",
              " ([6.4, 2.8, 5.6, 2.1], 2),\n",
              " ([7.2, 3.0, 5.8, 1.6], 2),\n",
              " ([7.4, 2.8, 6.1, 1.9], 2),\n",
              " ([7.9, 3.8, 6.4, 2.0], 2),\n",
              " ([6.4, 2.8, 5.6, 2.2], 2),\n",
              " ([6.3, 2.8, 5.1, 1.5], 2),\n",
              " ([6.1, 2.6, 5.6, 1.4], 2),\n",
              " ([7.7, 3.0, 6.1, 2.3], 2),\n",
              " ([6.3, 3.4, 5.6, 2.4], 2),\n",
              " ([6.4, 3.1, 5.5, 1.8], 2),\n",
              " ([6.0, 3.0, 4.8, 1.8], 2),\n",
              " ([6.9, 3.1, 5.4, 2.1], 2),\n",
              " ([6.7, 3.1, 5.6, 2.4], 2),\n",
              " ([6.9, 3.1, 5.1, 2.3], 2),\n",
              " ([5.8, 2.7, 5.1, 1.9], 2),\n",
              " ([6.8, 3.2, 5.9, 2.3], 2),\n",
              " ([6.7, 3.3, 5.7, 2.5], 2),\n",
              " ([6.7, 3.0, 5.2, 2.3], 2),\n",
              " ([6.3, 2.5, 5.0, 1.9], 2),\n",
              " ([6.5, 3.0, 5.2, 2.0], 2),\n",
              " ([6.2, 3.4, 5.4, 2.3], 2),\n",
              " ([5.9, 3.0, 5.1, 1.8], 2)]"
            ]
          },
          "metadata": {},
          "execution_count": 27
        }
      ]
    },
    {
      "cell_type": "code",
      "metadata": {
        "colab": {
          "base_uri": "https://localhost:8080/",
          "height": 267
        },
        "id": "WQsflKrEPn_v",
        "outputId": "f3d11c24-989e-4998-e6e7-65592c350de1"
      },
      "source": [
        "plt.scatter([d[0][0] for d in data],\n",
        "            [d[0][1] for d in data], c = [d[1] for d in data], alpha=0.3)\n",
        "plt.show()"
      ],
      "execution_count": 28,
      "outputs": [
        {
          "output_type": "display_data",
          "data": {
            "image/png": "[encoded data removed]",
            "text/plain": [
              "<Figure size 432x288 with 1 Axes>"
            ]
          },
          "metadata": {
            "needs_background": "light"
          }
        }
      ]
    },
    {
      "cell_type": "code",
      "metadata": {
        "id": "_MW1u5r4P7sv"
      },
      "source": [
        "random.shuffle(data)"
      ],
      "execution_count": 29,
      "outputs": []
    },
    {
      "cell_type": "code",
      "metadata": {
        "id": "51IS2K7EP_la"
      },
      "source": [
        "train = data[:-30]"
      ],
      "execution_count": 30,
      "outputs": []
    },
    {
      "cell_type": "code",
      "metadata": {
        "id": "RCnGuPsrQBZX"
      },
      "source": [
        "test = data[-30:]"
      ],
      "execution_count": 31,
      "outputs": []
    },
    {
      "cell_type": "code",
      "metadata": {
        "id": "9iHtbKIXQC-g"
      },
      "source": [
        "def distance(a,b):\n",
        "  s=0\n",
        "  for i in range(len(a[0])):\n",
        "    s += (a[0][i] - b[0][i])**2\n",
        "    return s**0.5"
      ],
      "execution_count": 32,
      "outputs": []
    },
    {
      "cell_type": "code",
      "metadata": {
        "id": "FGAL-8bNQM_U"
      },
      "source": [
        "def knn_classify(k,query,train):\n",
        "  knns = sorted((distance(point,query),point)for point in train)[:k]\n",
        "\n",
        "  scores = {}\n",
        "  for dist,point in knns:\n",
        "    scores[point[1]] = scores.get(point[1],0) + 1/(1+dist)\n",
        "\n",
        "  resp, score = max(scores.items(),key=lambda x: x[1])\n",
        "\n",
        "  return resp"
      ],
      "execution_count": 33,
      "outputs": []
    },
    {
      "cell_type": "code",
      "metadata": {
        "colab": {
          "base_uri": "https://localhost:8080/"
        },
        "id": "K0u1qvsEQjdc",
        "outputId": "e6262c0e-2bad-4eb5-f5c0-482ad47567c9"
      },
      "source": [
        "k = 3\n",
        "correct = sum(1 for t in test if knn_classify(k,t,train)==t[1])\n",
        "accuracy = correct/len(test)\n",
        "print(\"accuracy: \",accuracy)"
      ],
      "execution_count": 34,
      "outputs": [
        {
          "output_type": "stream",
          "name": "stdout",
          "text": [
            "accuracy:  0.6\n"
          ]
        }
      ]
    },
    {
      "cell_type": "code",
      "metadata": {
        "colab": {
          "base_uri": "https://localhost:8080/",
          "height": 282
        },
        "id": "PYTfzxcmQt5H",
        "outputId": "f5554aab-40ee-42e0-9f28-c869096b2a86"
      },
      "source": [
        "num_trials = 100\n",
        "train_size = int(len(data) * 0.8)\n",
        "test_size = len(data) - train_size\n",
        "corrects = [0]*20\n",
        "for i in tqdm(range(num_trials)):\n",
        "  random.shuffle(data)\n",
        "  train = data[:train_size]\n",
        "  test = data[train_size:]\n",
        "  for k in range(1,20):\n",
        "    corrects[k] += sum(1 for t in test if knn_classify(k, t, train) == t[1])\n",
        "for k in range(1,20):\n",
        "  corrects[k] /= num_trials * test_size\n",
        "plt.plot(range(1,20), corrects[1:], '-x')\n",
        "plt.show()"
      ],
      "execution_count": 35,
      "outputs": [
        {
          "output_type": "stream",
          "name": "stderr",
          "text": [
            "100%|██████████| 100/100 [00:09<00:00, 10.05it/s]\n"
          ]
        },
        {
          "output_type": "display_data",
          "data": {
            "image/png": "[encoded data removed]",
            "text/plain": [
              "<Figure size 432x288 with 1 Axes>"
            ]
          },
          "metadata": {
            "needs_background": "light"
          }
        }
      ]
    },
    {
      "cell_type": "code",
      "metadata": {
        "id": "OJMrsC3tQ_5S"
      },
      "source": [
        ""
      ],
      "execution_count": 35,
      "outputs": []
    }
  ]
}